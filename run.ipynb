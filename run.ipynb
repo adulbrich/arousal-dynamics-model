{
 "cells": [
  {
   "cell_type": "code",
   "execution_count": null,
   "metadata": {},
   "outputs": [],
   "source": [
    "import models\n",
    "import numpy as np\n",
    "import pandas as pd\n",
    "from numpy import sqrt, exp, pi, power, tanh, vectorize\n",
    "from scipy.integrate import odeint\n",
    "from scipy.interpolate import make_interp_spline, interp1d\n",
    "import matplotlib.pyplot as plt"
   ]
  },
  {
   "cell_type": "code",
   "execution_count": null,
   "metadata": {},
   "outputs": [],
   "source": [
    "folder = ''"
   ]
  },
  {
   "cell_type": "code",
   "execution_count": null,
   "metadata": {},
   "outputs": [],
   "source": [
    "### Read input file\n",
    "input_file = pd.read_csv(folder+'input_irradiance_mel.csv', sep=\";\", decimal=\",\")\n",
    "minE = min(min(input_file.irradiance_mel),0.036)\n",
    "maxE = max(max(input_file.irradiance_mel), 0.22)"
   ]
  },
  {
   "cell_type": "code",
   "execution_count": null,
   "metadata": {},
   "outputs": [],
   "source": [
    "### Create steps from input irradiance\n",
    "input_file['hour'] = round(input_file.hours,0)\n",
    "input_step = input_file[['irradiance_mel','hour']].groupby('hour').mean()\n",
    "input_step.reset_index(inplace=True)"
   ]
  },
  {
   "cell_type": "code",
   "execution_count": null,
   "metadata": {},
   "outputs": [],
   "source": [
    "### Smooth input irradiance with second degree polynomial\n",
    "x = input_file.hours\n",
    "a = np.polyfit(x, input_file.irradiance_mel, 2)\n",
    "input_file['irradiance_mel_smooth'] = a[0] * power(x,2) + a[1] * x + a[2]"
   ]
  },
  {
   "cell_type": "code",
   "execution_count": null,
   "metadata": {},
   "outputs": [],
   "source": [
    "output_file = pd.read_csv(folder+\"output.csv\", sep=\";\", decimal=\",\")\n",
    "n = output_file.shape[0]\n",
    "output_file['E_mel'] = output_file.I_mel*0.0013262 # convert to irradiance"
   ]
  },
  {
   "cell_type": "code",
   "execution_count": null,
   "metadata": {},
   "outputs": [],
   "source": [
    "### Find nearest point in vector\n",
    "def find_nearest(array, value):\n",
    "    array = np.asarray(array)\n",
    "    idx = (np.abs(array - value)).argmin()\n",
    "    return idx\n",
    "\n",
    "### Return irradiance at time t\n",
    "def irradiance(t):\n",
    "    t = t/3600\n",
    "    t = t % 24\n",
    "    if ((t < 8.0) or (t > 20.0)): \n",
    "        E_emel = 0.036 # from the scientist: 27 lux\n",
    "    elif ((t < 9.0) or (t > 16.0)): \n",
    "        E_emel = 0.22 # from the scientist: 165 lux\n",
    "    else:\n",
    "        ### original data\n",
    "        idx = find_nearest(input_file.hours, t)\n",
    "        E_emel = input_file.irradiance_mel[idx]\n",
    "        ### smoothed data (second order poly)\n",
    "        # E_emel = input_file.irradiance_mel_smooth[idx]\n",
    "        # idx = find_nearest(new_input.hour, t)\n",
    "        ### aggregated by hour \"step\" data\n",
    "        # E_emel = input_step.irradiance_mel[idx]\n",
    "        # E_emel = 0.22 # step\n",
    "    return E_emel\n",
    "\n",
    "irradiance_v = vectorize(irradiance)"
   ]
  },
  {
   "cell_type": "code",
   "execution_count": null,
   "metadata": {},
   "outputs": [],
   "source": [
    "def forced_wake(t):\n",
    "    # Testing with forced wake between t1 and t2\n",
    "    #if ((t/3600 % 24) >= 6 and (t/3600 % 24) <= 24):\n",
    "    #    F_w = 1\n",
    "    #else:\n",
    "    #    F_w = 0\n",
    "    F_w = 0\n",
    "    return F_w\n",
    "\n",
    "forced_wake_v = vectorize(forced_wake)"
   ]
  },
  {
   "cell_type": "code",
   "execution_count": null,
   "metadata": {},
   "outputs": [],
   "source": [
    "#### Initial Conditions \n",
    "# [V_v, V_m, H, X, Y, P, Theta_L]\n",
    "\n",
    "y0 = [1.5, -15.0, 13.0, 0.04, -1.28, 0.0, 0.0]\n",
    "\n",
    "# y0 = [-4.497078351339751, -0.07000000000052416, 13.235369640119554, -0.07243371889456507, -0.7498943126792074, 0.998695292851908, 0.0]\n",
    "# y0 = [-3.9849559306245554, -0.06999999999999991, 13.443772572885331, -0.8152711832774777, 0.10984121127149143, 0.08493027667594716, -0.03543102672658369]\n",
    "# y0 = [2.902150366506143, -14.159798106868699, 13.299816271267845, -0.7966368638117368, 0.2637919920821084, 0.06249713611782928, -0.05188881098166024]\n",
    "# y0 = [ 1.888050284627664, -10.000676037696763, 12.547896533553217, -1.0889180236787013, -0.2654388779780049, 0.06231185031284664, -0.05499507929393252]\n",
    "# y0 = [ 1.745102761767178, -9.50905050894146, 12.40606970294775, -1.076264422103, -0.09355980932875388, 0.056699021756750685, -0.054995079291803216]"
   ]
  },
  {
   "cell_type": "code",
   "execution_count": null,
   "metadata": {},
   "outputs": [],
   "source": [
    "### Execute the ODE model\n",
    "t = np.linspace(0,72*60*60,n)\n",
    "(sol,temp) = odeint(models.model, y0, t, args = (irradiance, forced_wake, minE, maxE, '2020',), full_output = True)\n",
    "\n",
    "### Store results\n",
    "V_v = sol[:, 0]\n",
    "V_m = sol[:, 1]\n",
    "H = sol[:, 2]\n",
    "X = sol[:, 3]\n",
    "Y = sol[:, 4]\n",
    "P = sol[:, 5]\n",
    "Theta_L = sol[:, 6]\n",
    "t_hours = t/3600"
   ]
  },
  {
   "cell_type": "code",
   "execution_count": null,
   "metadata": {},
   "outputs": [],
   "source": [
    "### Plot ODEs\n",
    "plt.figure(figsize=(10, 10))\n",
    "\n",
    "plt.subplot(3,2,1)\n",
    "plt.plot(t_hours, V_v, 'b', label='V_v(t)')\n",
    "plt.plot(t_hours, V_m, 'g', label='V_m(t)')\n",
    "plt.legend(loc='best')\n",
    "plt.xlabel('t')\n",
    "plt.grid(True)\n",
    "\n",
    "plt.subplot(3,2,2)\n",
    "plt.plot(t_hours, X, 'c', label='X(t)')\n",
    "plt.plot(t_hours, Y, 'm', label='Y(t)')\n",
    "plt.legend(loc='best')\n",
    "plt.xlabel('t')\n",
    "plt.grid(True)\n",
    "\n",
    "plt.subplot(3,2,3)\n",
    "plt.plot(t_hours, H, 'r', label='H(t)')\n",
    "plt.legend(loc='best')\n",
    "plt.xlabel('t')\n",
    "plt.grid(True)\n",
    "\n",
    "plt.subplot(3,2,4)\n",
    "plt.plot(t_hours, P, 'r', label='P(t)')\n",
    "plt.legend(loc='best')\n",
    "plt.xlabel('t')\n",
    "plt.grid(True)\n",
    "\n",
    "plt.subplot(3,2,5)\n",
    "plt.plot(t_hours, Theta_L, 'b', label='Theta_L(t)')\n",
    "plt.legend(loc='best')\n",
    "plt.xlabel('t')\n",
    "plt.grid(True)\n",
    "\n",
    "plt.tight_layout()\n",
    "plt.show()"
   ]
  },
  {
   "cell_type": "code",
   "execution_count": null,
   "metadata": {},
   "outputs": [],
   "source": [
    "### Compute all the internal functions\n",
    "IE    = irradiance_v(t)\n",
    "S     = models.state_v(V_m) \n",
    "alpha = models.photoreceptor_conversion_rate_v(IE, S, '2020')\n",
    "Q_m   = models.mean_population_firing_rate_v(V_m)\n",
    "Q_v   = models.mean_population_firing_rate_v(V_v)\n",
    "C     = models.circadian_drive_v(X,Y)\n",
    "D_v   = models.total_sleep_drive_v(H,C)\n",
    "D_n   = models.nonphotic_drive_v(X, S)\n",
    "D_p   = models.photic_drive_v(X, Y, P, alpha)\n",
    "F_w   = forced_wake_v(t)\n",
    "W     = models.wake_effort_v(Q_v, F_w)\n",
    "#Sigmoid = ( models.sigmoid_v(IE) - models.sigmoid_v(0) ) / ( models.sigmoid_v(0.8) - models.sigmoid_v(0) )\n",
    "Sigmoid = ( models.sigmoid_v(IE) - models.sigmoid_v(minE) ) / ( models.sigmoid_v(maxE) - models.sigmoid_v(minE) )"
   ]
  },
  {
   "cell_type": "code",
   "execution_count": null,
   "metadata": {},
   "outputs": [],
   "source": [
    "### Plot internal variables\n",
    "plt.figure(figsize=(10, 15))\n",
    "\n",
    "plt.subplot(6,2,1)\n",
    "plt.plot(t_hours, IE)\n",
    "plt.xlabel('t')\n",
    "plt.ylabel('I_mel(t)')\n",
    "plt.grid(True)\n",
    "\n",
    "plt.subplot(6,2,2)\n",
    "plt.plot(t_hours, S)\n",
    "plt.xlabel('t')\n",
    "plt.ylabel('S(t)')\n",
    "plt.grid(True)\n",
    "\n",
    "plt.subplot(6,2,3)\n",
    "plt.plot(t_hours, Sigmoid)\n",
    "plt.xlabel('t')\n",
    "plt.ylabel('Sigmoid(t)')\n",
    "plt.grid(True)\n",
    "\n",
    "plt.subplot(6,2,4)\n",
    "plt.plot(t_hours, alpha)\n",
    "plt.xlabel('t')\n",
    "plt.ylabel('alpha(t)')\n",
    "plt.grid(True)\n",
    "\n",
    "plt.subplot(6,2,5)\n",
    "plt.plot(t_hours, Q_m)\n",
    "plt.xlabel('t')\n",
    "plt.ylabel('Q_m(t)')\n",
    "plt.grid(True)\n",
    "\n",
    "plt.subplot(6,2,6)\n",
    "plt.plot(t_hours, Q_v)\n",
    "plt.xlabel('t')\n",
    "plt.ylabel('Q_v(t)')\n",
    "plt.grid(True)\n",
    "\n",
    "plt.subplot(6,2,7)\n",
    "plt.plot(t_hours, C)\n",
    "plt.xlabel('t')\n",
    "plt.ylabel('C(t)')\n",
    "plt.grid(True)\n",
    "\n",
    "plt.subplot(6,2,8)\n",
    "plt.plot(t_hours, D_v)\n",
    "plt.xlabel('t')\n",
    "plt.ylabel('D_v(t)')\n",
    "plt.grid(True)\n",
    "\n",
    "plt.subplot(6,2,9)\n",
    "plt.plot(t_hours, D_n)\n",
    "plt.xlabel('t')\n",
    "plt.ylabel('D_n(t)')\n",
    "plt.grid(True)\n",
    "\n",
    "plt.subplot(6,2,10)\n",
    "plt.plot(t_hours, D_p)\n",
    "plt.xlabel('t')\n",
    "plt.ylabel('D_p(t)')\n",
    "plt.grid(True)\n",
    "\n",
    "plt.subplot(6,2,11)\n",
    "plt.plot(t_hours, F_w)\n",
    "plt.xlabel('t')\n",
    "plt.ylabel('F_w(t)')\n",
    "plt.grid(True)\n",
    "\n",
    "plt.subplot(6,2,12)\n",
    "plt.plot(t_hours, W)\n",
    "plt.xlabel('t')\n",
    "plt.ylabel('W(t)')\n",
    "plt.grid(True)\n",
    "\n",
    "plt.tight_layout()\n",
    "plt.show()"
   ]
  },
  {
   "cell_type": "code",
   "execution_count": null,
   "metadata": {},
   "outputs": [],
   "source": [
    "AM = models.alertness_measure_v(C, H, Theta_L)"
   ]
  },
  {
   "cell_type": "code",
   "execution_count": null,
   "metadata": {},
   "outputs": [],
   "source": [
    "### Plot AM-related variables\n",
    "plt.figure(figsize=(5, 10))\n",
    "\n",
    "plt.subplot(5,1,1)\n",
    "plt.plot(t_hours, C)\n",
    "plt.xlabel('t')\n",
    "plt.ylabel('C(t)')\n",
    "plt.grid(True)\n",
    "\n",
    "plt.subplot(5,1,2)\n",
    "plt.plot(t_hours, H)\n",
    "plt.xlabel('t')\n",
    "plt.ylabel('H(t)')\n",
    "plt.grid(True)\n",
    "\n",
    "plt.subplot(5,1,3)\n",
    "plt.plot(t_hours, Theta_L)\n",
    "plt.xlabel('t')\n",
    "plt.ylabel('Theta_L(t)')\n",
    "plt.grid(True)\n",
    "\n",
    "plt.subplot(5,1,4)\n",
    "plt.plot(t_hours, Sigmoid)\n",
    "plt.xlabel('t')\n",
    "plt.ylabel('Sigmoid(t)')\n",
    "plt.grid(True)\n",
    "\n",
    "plt.subplot(5,1,5)\n",
    "plt.plot(output_file.time, output_file.KSS, 'darkorange')\n",
    "plt.plot(t_hours, AM)\n",
    "plt.xlabel('t')\n",
    "plt.ylabel('KSS(t)')\n",
    "plt.grid(True)"
   ]
  },
  {
   "cell_type": "code",
   "execution_count": null,
   "metadata": {},
   "outputs": [],
   "source": [
    "### Plot AM and Irradiance\n",
    "plt.figure(figsize=(5, 5))\n",
    "\n",
    "plt.subplot(2,1,1)\n",
    "plt.plot(output_file.time, output_file.E_mel, 'darkorange')\n",
    "plt.plot(t_hours, IE)\n",
    "plt.xlabel('t')\n",
    "plt.ylabel('Irradiance(t)')\n",
    "plt.grid(True)\n",
    "\n",
    "plt.subplot(2,1,2)\n",
    "plt.plot(output_file.time, output_file.KSS, 'darkorange')\n",
    "plt.plot(t_hours, AM)\n",
    "plt.xlabel('t')\n",
    "plt.ylabel('KSS(t)')\n",
    "plt.grid(True)"
   ]
  },
  {
   "cell_type": "code",
   "execution_count": null,
   "metadata": {},
   "outputs": [],
   "source": [
    "plt.plot(output_file.time, output_file.E_mel, 'darkorange', label='E_mel(t), Patricia')\n",
    "plt.plot(t_hours, irradiance_v(t), 'b', label='E_mel(t), Victoria')\n",
    "plt.legend(loc='best')\n",
    "plt.xlabel('t')\n",
    "plt.grid()\n",
    "plt.show()"
   ]
  },
  {
   "cell_type": "code",
   "execution_count": null,
   "metadata": {},
   "outputs": [],
   "source": [
    "fig, ax1 = plt.subplots()\n",
    "\n",
    "color = 'tab:red'\n",
    "ax1.set_xlabel('time (s)')\n",
    "ax1.set_ylabel('KSS', color=color)\n",
    "ax1.plot(t_hours, AM, color=color)\n",
    "ax1.plot(output_file.time, output_file.KSS, color=color, linestyle='dashed')\n",
    "ax1.tick_params(axis='y', labelcolor=color)\n",
    "\n",
    "ax2 = ax1.twinx()  # instantiate a second axes that shares the same x-axis\n",
    "color = 'tab:blue'\n",
    "ax2.set_ylabel('Irradiance', color=color)  # we already handled the x-label with ax1\n",
    "ax2.plot(t_hours, irradiance_v(t), color=color)\n",
    "ax2.tick_params(axis='y', labelcolor=color)\n",
    "\n",
    "fig.tight_layout()  # otherwise the right y-label is slightly clipped\n",
    "plt.show()"
   ]
  },
  {
   "cell_type": "code",
   "execution_count": null,
   "metadata": {},
   "outputs": [],
   "source": [
    "# find some initial conditions\n",
    "idx = find_nearest(H, 13.3)\n",
    "print(\"[ {}, {}, {}, {}, {}, {}, {}]\".format(V_v[idx],V_m[idx],H[idx],X[idx],Y[idx],P[idx],Theta_L[idx]))\n"
   ]
  },
  {
   "cell_type": "code",
   "execution_count": null,
   "metadata": {},
   "outputs": [],
   "source": [
    "# find some initial conditions\n",
    "idx = find_nearest(t/3600, 48)\n",
    "print(\"[ {}, {}, {}, {}, {}, {}, {}]\".format(V_v[idx],V_m[idx],H[idx],X[idx],Y[idx],P[idx],Theta_L[idx]))"
   ]
  }
 ],
 "metadata": {
  "kernelspec": {
   "name": "python3",
   "display_name": "Python 3.9.0 64-bit",
   "metadata": {
    "interpreter": {
     "hash": "aee8b7b246df8f9039afb4144a1f6fd8d2ca17a180786b69acc140d282b71a49"
    }
   }
  },
  "language_info": {
   "codemirror_mode": {
    "name": "ipython",
    "version": 3
   },
   "file_extension": ".py",
   "mimetype": "text/x-python",
   "name": "python",
   "nbconvert_exporter": "python",
   "pygments_lexer": "ipython3",
   "version": "3.9.0-final"
  }
 },
 "nbformat": 4,
 "nbformat_minor": 4
}