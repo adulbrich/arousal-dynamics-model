{
 "cells": [
  {
   "cell_type": "code",
   "execution_count": null,
   "metadata": {},
   "outputs": [],
   "source": [
    "import models\n",
    "import numpy as np\n",
    "import pandas as pd\n",
    "from numpy import sqrt, exp, pi, power, tanh, vectorize\n",
    "from scipy.integrate import odeint\n",
    "import matplotlib.pyplot as plt"
   ]
  },
  {
   "cell_type": "code",
   "execution_count": null,
   "metadata": {},
   "outputs": [],
   "source": [
    "folder = ''"
   ]
  },
  {
   "cell_type": "code",
   "execution_count": null,
   "metadata": {},
   "outputs": [],
   "source": [
    "input_file = pd.read_csv(folder+'input_irradiance_mel.csv', sep=\";\", decimal=\",\")\n",
    "irradiance_mel = input_file[['hours', 'irradiance_mel']]\n",
    "illuminance_mel = input_file[['hours', 'illuminance_mel']]"
   ]
  },
  {
   "cell_type": "code",
   "execution_count": null,
   "metadata": {},
   "outputs": [],
   "source": [
    "output_file = pd.read_csv(folder+\"output.csv\", sep=\";\", decimal=\",\")\n",
    "n = output_file.shape[0]"
   ]
  },
  {
   "cell_type": "code",
   "execution_count": null,
   "metadata": {},
   "outputs": [],
   "source": [
    "def find_nearest(array, value):\n",
    "    array = np.asarray(array)\n",
    "    idx = (np.abs(array - value)).argmin()\n",
    "    return idx\n",
    "\n",
    "def irradiance(t):\n",
    "    t = t/3600\n",
    "    t = t % 24\n",
    "    #print(\"Time:\",t) # for debugging\n",
    "    if ((t < 8.0) or (t > 20.0)): \n",
    "        E_emel = 0.01\n",
    "    elif ((t < 9.0) or (t > 16.0)): \n",
    "        E_emel = max(irradiance_mel.irradiance_mel)\n",
    "    else:\n",
    "        idx = find_nearest(irradiance_mel.hours, t)\n",
    "        E_emel = irradiance_mel.irradiance_mel[idx]\n",
    "    #print(\"Irradiance:\",E_emel) # for debugging\n",
    "    return E_emel\n",
    "\n",
    "irradiance_v = vectorize(irradiance)"
   ]
  },
  {
   "cell_type": "code",
   "execution_count": null,
   "metadata": {},
   "outputs": [],
   "source": [
    "# initial conditions \n",
    "y0 = [1.5, -15.0, 13.0, 0.04, -1.28, 0.0, -0.055]\n",
    "# y0 = [-4.497078351339751, -0.07000000000052416, 13.235369640119554, -0.07243371889456507, -0.7498943126792074, 0.998695292851908, 0.0]\n",
    "# y0 = [-3.9849559306245554, -0.06999999999999991, 13.443772572885331, -0.8152711832774777, 0.10984121127149143, 0.08493027667594716, -0.03543102672658369]\n",
    "# y0 = [2.902150366506143, -14.159798106868699, 13.299816271267845, -0.7966368638117368, 0.2637919920821084, 0.06249713611782928, -0.05188881098166024]\n",
    "# y0 = [ 1.888050284627664, -10.000676037696763, 12.547896533553217, -1.0889180236787013, -0.2654388779780049, 0.06231185031284664, -0.05499507929393252]\n",
    "# y0 = [ 1.745102761767178, -9.50905050894146, 12.40606970294775, -1.076264422103, -0.09355980932875388, 0.056699021756750685, -0.054995079291803216]"
   ]
  },
  {
   "cell_type": "code",
   "execution_count": null,
   "metadata": {},
   "outputs": [],
   "source": [
    "t = np.linspace(0,72*60*60,n)\n",
    "(sol,temp) = odeint(models.model, y0, t, args = (irradiance, '2020',), full_output = True)\n",
    "\n",
    "V_v = sol[:, 0]\n",
    "V_m = sol[:, 1]\n",
    "H = sol[:, 2]\n",
    "X = sol[:, 3]\n",
    "Y = sol[:, 4]\n",
    "P = sol[:, 5]\n",
    "Theta_L = sol[:, 6]"
   ]
  },
  {
   "cell_type": "code",
   "execution_count": null,
   "metadata": {},
   "outputs": [],
   "source": [
    "# define initial condition\n",
    "idx = find_nearest(H, 13.3)\n",
    "print(\"[ {}, {}, {}, {}, {}, {}, {}]\".format(V_v[idx],V_m[idx],H[idx],X[idx],Y[idx],P[idx],Theta_L[idx]))\n"
   ]
  },
  {
   "cell_type": "code",
   "execution_count": null,
   "metadata": {},
   "outputs": [],
   "source": [
    "# define initial condition\n",
    "idx = find_nearest(t/3600, 48)\n",
    "print(\"[ {}, {}, {}, {}, {}, {}, {}]\".format(V_v[idx],V_m[idx],H[idx],X[idx],Y[idx],P[idx],Theta_L[idx]))"
   ]
  },
  {
   "cell_type": "code",
   "execution_count": null,
   "metadata": {},
   "outputs": [],
   "source": [
    "t_hours = t/3600\n",
    "C = models.circadian_drive_v(X,Y)\n",
    "AM = models.alertness_measure_v(C, H, Theta_L)"
   ]
  },
  {
   "cell_type": "code",
   "execution_count": null,
   "metadata": {},
   "outputs": [],
   "source": [
    "plt.plot(t_hours, C, 'darkorange', label='C(t)')\n",
    "plt.legend(loc='best')\n",
    "plt.xlabel('t')\n",
    "plt.grid()\n",
    "plt.show()"
   ]
  },
  {
   "cell_type": "code",
   "execution_count": null,
   "metadata": {},
   "outputs": [],
   "source": [
    "plt.plot(output_file.time, output_file.KSS, 'b', label='KSS(t)')\n",
    "plt.plot(t_hours, AM, 'darkorange', label='AM_KSS(t)')\n",
    "plt.legend(loc='best')\n",
    "plt.xlabel('t')\n",
    "plt.grid()\n",
    "plt.show()"
   ]
  },
  {
   "cell_type": "code",
   "execution_count": null,
   "metadata": {},
   "outputs": [],
   "source": [
    "plt.plot(output_file.time, output_file.I_mel, 'b', label='I_mel(t), target')\n",
    "plt.plot(t_hours, irradiance_v(t)/0.0013262, 'darkorange', label='I_mel(t), input conversion')\n",
    "plt.legend(loc='best')\n",
    "plt.xlabel('t')\n",
    "plt.grid()\n",
    "plt.show()"
   ]
  },
  {
   "cell_type": "code",
   "execution_count": null,
   "metadata": {},
   "outputs": [],
   "source": [
    "fig, ax1 = plt.subplots()\n",
    "\n",
    "color = 'tab:red'\n",
    "ax1.set_xlabel('time (s)')\n",
    "ax1.set_ylabel('KSS', color=color)\n",
    "ax1.plot(t_hours, AM, color=color)\n",
    "ax1.plot(output_file.time, output_file.KSS, color=color, linestyle='dashed')\n",
    "ax1.tick_params(axis='y', labelcolor=color)\n",
    "\n",
    "ax2 = ax1.twinx()  # instantiate a second axes that shares the same x-axis\n",
    "color = 'tab:blue'\n",
    "ax2.set_ylabel('Irradiance', color=color)  # we already handled the x-label with ax1\n",
    "ax2.plot(t_hours, irradiance_v(t), color=color)\n",
    "ax2.tick_params(axis='y', labelcolor=color)\n",
    "\n",
    "fig.tight_layout()  # otherwise the right y-label is slightly clipped\n",
    "plt.show()"
   ]
  },
  {
   "cell_type": "code",
   "execution_count": null,
   "metadata": {},
   "outputs": [],
   "source": [
    "plt.plot(t_hours, V_v, 'b', label='V_v(t)')\n",
    "plt.plot(t_hours, V_m, 'g', label='V_m(t)')\n",
    "plt.legend(loc='best')\n",
    "plt.xlabel('t')\n",
    "plt.grid()\n",
    "plt.show()"
   ]
  },
  {
   "cell_type": "code",
   "execution_count": null,
   "metadata": {},
   "outputs": [],
   "source": [
    "plt.plot(t_hours, H, 'r', label='H(t)')\n",
    "plt.legend(loc='best')\n",
    "plt.xlabel('t')\n",
    "plt.grid()\n",
    "plt.show()"
   ]
  },
  {
   "cell_type": "code",
   "execution_count": null,
   "metadata": {},
   "outputs": [],
   "source": [
    "plt.plot(t_hours, X, 'c', label='X(t)')\n",
    "plt.plot(t_hours, Y, 'm', label='Y(t)')\n",
    "plt.legend(loc='best')\n",
    "plt.xlabel('t')\n",
    "plt.grid()\n",
    "plt.show()"
   ]
  },
  {
   "cell_type": "code",
   "execution_count": null,
   "metadata": {},
   "outputs": [],
   "source": [
    "plt.plot(t_hours, P, 'y', label='P(t)')\n",
    "plt.legend(loc='best')\n",
    "plt.xlabel('t')\n",
    "plt.grid()\n",
    "plt.show()"
   ]
  },
  {
   "cell_type": "code",
   "execution_count": null,
   "metadata": {},
   "outputs": [],
   "source": [
    "plt.plot(t_hours, Theta_L, 'b', label='Theta_L(t)')\n",
    "plt.legend(loc='best')\n",
    "plt.xlabel('t')\n",
    "plt.grid()\n",
    "plt.show()"
   ]
  },
  {
   "cell_type": "code",
   "execution_count": null,
   "metadata": {},
   "outputs": [],
   "source": []
  }
 ],
 "metadata": {
  "kernelspec": {
   "name": "python3",
   "display_name": "Python 3.9.0 64-bit",
   "metadata": {
    "interpreter": {
     "hash": "aee8b7b246df8f9039afb4144a1f6fd8d2ca17a180786b69acc140d282b71a49"
    }
   }
  },
  "language_info": {
   "codemirror_mode": {
    "name": "ipython",
    "version": 3
   },
   "file_extension": ".py",
   "mimetype": "text/x-python",
   "name": "python",
   "nbconvert_exporter": "python",
   "pygments_lexer": "ipython3",
   "version": "3.9.0-final"
  }
 },
 "nbformat": 4,
 "nbformat_minor": 4
}