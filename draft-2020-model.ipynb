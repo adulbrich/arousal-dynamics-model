{
 "cells": [
  {
   "cell_type": "code",
   "execution_count": 2,
   "metadata": {},
   "outputs": [],
   "source": [
    "import math\n",
    "import numpy as np\n",
    "import pandas as pd\n",
    "from numpy import sqrt, exp, pi, power, tanh\n",
    "from scipy.integrate import odeint\n",
    "import matplotlib.pyplot as plt"
   ]
  },
  {
   "cell_type": "code",
   "execution_count": 3,
   "metadata": {},
   "outputs": [],
   "source": [
    "# time constants: Postnova et al. 2018 - Table 1\n",
    "tau_v = 50 #s\n",
    "tau_m = tau_v\n",
    "tau_H = 59*3600 #s\n",
    "tau_X = (24*3600) / (2*pi) #s\n",
    "tau_Y = tau_X\n",
    "tau_C = 24.2*3600 #s"
   ]
  },
  {
   "cell_type": "code",
   "execution_count": 4,
   "metadata": {},
   "outputs": [],
   "source": [
    "# coupling strengths constants: Postnova et al. 2018 - Table 1\n",
    "nu_vm = -2.1 #mV\n",
    "nu_mv = -1.8 #mV\n",
    "nu_Hm = 4.57 #s\n",
    "nu_Xp = 37*60 #s\n",
    "nu_Xn = 0.032\n",
    "nu_YY = (1/3)*nu_Xp #???? OK seems\n",
    "nu_YX = 0.55*nu_Xp\n",
    "nu_vH = 1\n",
    "nu_vC = -0.5 #mV"
   ]
  },
  {
   "cell_type": "code",
   "execution_count": 5,
   "metadata": {},
   "outputs": [],
   "source": [
    "# external neuronal drives constants: Postnova et al. 2018 - Table 1\n",
    "A_v = -10.3 #mV\n",
    "D_m = 1.3 #mV\n",
    "A_m = D_m"
   ]
  },
  {
   "cell_type": "code",
   "execution_count": 6,
   "metadata": {},
   "outputs": [],
   "source": [
    "# circadian constants: Postnova et al. 2018 - Table 1\n",
    "gamma = 0.13\n",
    "delta = 24*3600/0.99729 #s\n",
    "beta = 0.007/60 #sˆ-1"
   ]
  },
  {
   "cell_type": "code",
   "execution_count": 7,
   "metadata": {},
   "outputs": [],
   "source": [
    "# nonphotic drive constant: Postnova et al. 2018 - Table 1\n",
    "r = 10"
   ]
  },
  {
   "cell_type": "code",
   "execution_count": 8,
   "metadata": {},
   "outputs": [],
   "source": [
    "# photic drive constants: Postnova et al. 2018 - Table 1\n",
    "epsilon = 0.4\n",
    "I_0 = 100 #lx\n",
    "I_1 = 9500 #lx\n",
    "alpha_0 = 0.1/60 #sˆ-1"
   ]
  },
  {
   "cell_type": "code",
   "execution_count": 9,
   "metadata": {},
   "outputs": [],
   "source": [
    "# firing rate constants: Postnova et al. 2018 - Table 1\n",
    "Q_max = 100 #sˆ-1\n",
    "theta = 10 #mV\n",
    "sigma = 3 #mV #prime???"
   ]
  },
  {
   "cell_type": "code",
   "execution_count": 10,
   "metadata": {},
   "outputs": [],
   "source": [
    "# wake effort constants: Postnova et al. 2018 - Table 1\n",
    "V_WE = -0.07 #mv\n",
    "V_th = -2 #mV\n",
    "F_W = 1 # if forced wake, 0 otherwise #????"
   ]
  },
  {
   "cell_type": "code",
   "execution_count": 11,
   "metadata": {},
   "outputs": [],
   "source": [
    "# circadian phase constants: Postnova et al. 2018 - Table 1\n",
    "MELpeak_t_0 = 0.7*3600 #s\n",
    "CBTmin_t_0 = 2.7*3600 #s"
   ]
  },
  {
   "cell_type": "code",
   "execution_count": 12,
   "metadata": {},
   "outputs": [],
   "source": [
    "# KSS: Karolinska Sleepiness Scale\n",
    "# Ranges from 1 = \"Extremely alert\" to 9 = \"Extremely sleepy, fighting sleep.\"\n",
    "# KSS default parameters: Postnova et al. 2018 - Table 3\n",
    "Theta_0_KSS = -24.34\n",
    "Theta_H_KSS = 2.28\n",
    "Theta_C_KSS = -1.74"
   ]
  },
  {
   "cell_type": "code",
   "execution_count": 13,
   "metadata": {},
   "outputs": [],
   "source": [
    "# constant ratio of melanopic irradiance to illuminance for the Philips 4100K fluorescent lamp\n",
    "# Tekieh et al. 2020 - Equation 5\n",
    "F_4100K = 8.19e-4"
   ]
  },
  {
   "cell_type": "code",
   "execution_count": 14,
   "metadata": {},
   "outputs": [],
   "source": [
    "# parameters of the sigmoid function # Tekieh et al. 2020 - Section 2.3.2, after Equation 9\n",
    "r_a = 1\n",
    "r_b = 0.031 # W/mˆ2\n",
    "r_c = 0.82 "
   ]
  },
  {
   "cell_type": "code",
   "execution_count": 15,
   "metadata": {},
   "outputs": [],
   "source": [
    "# parameters defining the melanopic irradiance value at half-maximal alerting effect and the steepness of the curve\n",
    "# Tekieh et al. 2020 - Section 2.3.3\n",
    "S_b = 0.05 # W/mˆ2\n",
    "S_c = 223.5 # mˆ2/W"
   ]
  },
  {
   "cell_type": "code",
   "execution_count": 16,
   "metadata": {},
   "outputs": [],
   "source": [
    "# parameter defining the time of rise and decay of melatonin at the onset and offset of synthesis \n",
    "# Tekieh et al. 2020 - Section 2.3.2, after Equation 9\n",
    "tau_A = 1.5*3600 #s # 1.5 hours"
   ]
  },
  {
   "cell_type": "code",
   "execution_count": 17,
   "metadata": {},
   "outputs": [],
   "source": [
    "# melanopic model parameters\n",
    "# Tekieh et al. 2020 - Table 3, Rüger et al, 2006\n",
    "nu_LA = -0.07\n",
    "tau_L = 97*60 #s # 97 min"
   ]
  },
  {
   "cell_type": "code",
   "execution_count": 127,
   "metadata": {},
   "outputs": [],
   "source": [
    "## melanopic irradiance # Tekieh et al. 2020 - Equation 1, but here as input from experiment\n",
    "input_file = pd.read_csv()\n",
    "irradiance_mel = input_file[['hours', 'irradiance_mel']]\n",
    "t = np.array(input_file.hours)\n",
    "\n",
    "def find_nearest(array, value):\n",
    "    array = np.asarray(array)\n",
    "    idx = (np.abs(array - value)).argmin()\n",
    "    return idx\n",
    "\n",
    "def irradiance(t):\n",
    "    t = t % 24\n",
    "    #print(\"Time:\",t)\n",
    "    if ((t < 9.0) or (t > 16.0)): \n",
    "        E_emel = 0.1 # seems to be buggy? crashes when E_emel varies\n",
    "    else:\n",
    "        idx = find_nearest(irradiance_mel.hours, t)\n",
    "        E_emel = irradiance_mel.irradiance_mel[idx]\n",
    "    #print(\"Irradiance:\",E_emel)\n",
    "    return E_emel"
   ]
  },
  {
   "cell_type": "code",
   "execution_count": 28,
   "metadata": {},
   "outputs": [],
   "source": [
    "# state function, revised 2020\n",
    "def revised_state(E_emel):\n",
    "    S = 1/(1 + exp((S_b-E_emel)/S_c)) # Tekieh et al. 2020 - Equation 14\n",
    "    return S"
   ]
  },
  {
   "cell_type": "code",
   "execution_count": 29,
   "metadata": {},
   "outputs": [],
   "source": [
    "# the photoreceptor conversion rate, revised 2020\n",
    "def alpha(E_emel):\n",
    "    alpha = ((alpha_0*E_emel)/(E_emel+I_1*F_4100K))*sqrt(E_emel/(I_0*F_4100K)) # Tekieh et al. 2020 - Equation 7\n",
    "    return alpha"
   ]
  },
  {
   "cell_type": "code",
   "execution_count": 30,
   "metadata": {},
   "outputs": [],
   "source": [
    "# melatonin suppression function\n",
    "def melatonin_suppression(E_emel):\n",
    "    r = 1 - (r_a/(1+power(E_emel/r_b,-r_c))) # Tekieh et al. 2020 - Equation 9\n",
    "    return r"
   ]
  },
  {
   "cell_type": "code",
   "execution_count": 31,
   "metadata": {},
   "outputs": [],
   "source": [
    "# photic drive to the circadian function\n",
    "def photic_drive(X, Y, P, E_emel):\n",
    "    D_p = alpha(E_emel)*(1-P)*(1-epsilon*X)*(1-epsilon*Y) # Postnova et al. 2018 - Table 1, Equation 12, revised 2020\n",
    "    return D_p"
   ]
  },
  {
   "cell_type": "code",
   "execution_count": 32,
   "metadata": {},
   "outputs": [],
   "source": [
    "# nonphotic drive to the circadian function\n",
    "def nonphotic_drive(X, S = 1):\n",
    "    D_n = (S-(2/3))*(1-tanh(r*X)) # Postnova et al. 2018 - Table 1, Equation 11\n",
    "    return D_n"
   ]
  },
  {
   "cell_type": "code",
   "execution_count": 33,
   "metadata": {},
   "outputs": [],
   "source": [
    "# mean population firing rate function\n",
    "def mean_pop_firing_rate(V):\n",
    "    Q = Q_max / (1 + exp((theta-V)/sigma)) # Postnova et al. 2018 - Table 1, Equation 7\n",
    "    return Q"
   ]
  },
  {
   "cell_type": "code",
   "execution_count": 34,
   "metadata": {},
   "outputs": [],
   "source": [
    "# total sleep drive\n",
    "def total_sleep_drive(H,C):\n",
    "    D_v = nu_vH*H + nu_vC*C + A_v # Postnova et al. 2018 - Table 1, Equation 9\n",
    "    return D_v"
   ]
  },
  {
   "cell_type": "code",
   "execution_count": 35,
   "metadata": {},
   "outputs": [],
   "source": [
    "# Circadian drive, sleep propensity model\n",
    "def circadian_drive(X,Y):\n",
    "    X = np.array(X)\n",
    "    Y = np.array(Y)\n",
    "    C = 0.1*((1+X)/2)+power(((3.1*X - 2.5*Y + 4.2)/(3.7*(X+2))),2) # Postnova et al. 2016 - Equations 1, 2, and 3\n",
    "    return C"
   ]
  },
  {
   "cell_type": "code",
   "execution_count": 36,
   "metadata": {},
   "outputs": [],
   "source": [
    "# KSS Alertness measure, revised 2020\n",
    "def alertness_measure_kss(C, H, Theta_L):\n",
    "    # unsure if it's still OK for KSS\n",
    "    # Theta_L is part of the ODE system, depends on E_emel\n",
    "    AM_KSS = Theta_0_KSS + (Theta_H_KSS + Theta_L)*H + Theta_C_KSS*C # Tekieh et al. 2020 - Equation 12\n",
    "    return AM_KSS"
   ]
  },
  {
   "cell_type": "code",
   "execution_count": 37,
   "metadata": {},
   "outputs": [],
   "source": [
    "def wake_effort(Q_v):\n",
    "    W = F_W * max(0, V_WE-nu_mv*Q_v-D_m) # Postnova et al. 2018 - Table 1, Equation 8\n",
    "    return W"
   ]
  },
  {
   "cell_type": "code",
   "execution_count": 125,
   "metadata": {},
   "outputs": [],
   "source": [
    "### Mean voltages, V_v and V_m of the VLPO and MA\n",
    "# dV_vdt = (nu_vm*Q_m - V_v + D_v)/tau_v # Postnova et al. 2018 - Table 1, Equation 1\n",
    "# dV_mdt = (nu_mv*Q_v - V_m + D_m + W)/tau_m # Postnova et al. 2018 - Table 1, Equation 2\n",
    "### Homeostatic drive\n",
    "# dHdt = (nu_Hm*Q_m - H)/tau_H # Postnova et al. 2018 - Table 1, Equation 3\n",
    "### circadian variables\n",
    "# dXdt = (Y + gamma*(X/3 + power(X,3)*4/3 - power(X,7)*256/105) + nu_Xp*D_p + nu_Xn*D_n)/tau_X # Postnova et al. 2018 - Table 1, Equation 4\n",
    "# dYdt = (D_p*(nu_YY*Y - nu_YX*X) - power((delta/tau_C),2)*X)/tau_Y # Postnova et al. 2018 - Table 1, Equation 5\n",
    "### photoreceptor activity function\n",
    "# dPdt = alpha(I,S)*(1-P)-(beta*P) # Postnova et al. 2018 - Table 1, Equation 6\n",
    "### total homeostatic weight\n",
    "# dTheta_Ldt = (-Theta_L + nu_LA*revised_state(E_emel))/tau_L # Tekieh et al. 2020 - Equation 13\n",
    "\n",
    "def model(y, t):\n",
    "    V_v, V_m, H, X, Y, P, Theta_L = y\n",
    "\n",
    "    E_emel = irradiance(t)\n",
    "    #E_emel = 0 # does not crash when constant\n",
    "    #E_emel = 0.15 # does not crash when constant\n",
    "    S = revised_state(E_emel) # revised\n",
    "    Q_m = mean_pop_firing_rate(V_m)\n",
    "    Q_v = mean_pop_firing_rate(V_v)\n",
    "    C = circadian_drive(X,Y)\n",
    "    D_v = total_sleep_drive(H,C)\n",
    "    D_n = nonphotic_drive(X, S)\n",
    "    D_p = photic_drive(X, Y, P, E_emel) # revised 2020\n",
    "    W = wake_effort(Q_v)\n",
    "    \n",
    "    gradient_y = [(nu_vm*Q_m - V_v + D_v)/tau_v, # V_v, Postnova et al. 2018 - Table 1, Equation 1\n",
    "                  (nu_mv*Q_v - V_m + D_m + W)/tau_m, # V_m, Postnova et al. 2018 - Table 1, Equation 2\n",
    "                  (nu_Hm*Q_m - H)/tau_H, # H, Postnova et al. 2018 - Table 1, Equation 3\n",
    "                  (Y + gamma*(X/3 + power(X,3)*4/3 - power(X,7)*256/105) + nu_Xp*D_p + nu_Xn*D_n)/tau_X, # X, Postnova et al. 2018 - Table 1, Equation 4\n",
    "                  (D_p*(nu_YY*Y - nu_YX*X) - power((delta/tau_C),2)*X)/tau_Y, # Y, Postnova et al. 2018 - Table 1, Equation 5\n",
    "                  alpha(E_emel)*(1-P)-(beta*P), # P, Postnova et al. 2018 - Table 1, Equation 6, revised\n",
    "                  (-Theta_L + nu_LA*revised_state(E_emel))/tau_L # Tekieh et al. 2020 - Equation 13\n",
    "                 ] \n",
    "    return gradient_y"
   ]
  },
  {
   "cell_type": "code",
   "execution_count": 128,
   "metadata": {},
   "outputs": [
    {
     "name": "stderr",
     "output_type": "stream",
     "text": [
      "<ipython-input-35-95e72b53e88e>:5: RuntimeWarning: overflow encountered in power\n",
      "  C = 0.1*((1+X)/2)+power(((3.1*X - 2.5*Y + 4.2)/(3.7*(X+2))),2) # Postnova et al. 2016 - Equations 1, 2, and 3\n"
     ]
    }
   ],
   "source": [
    "# https://docs.scipy.org/doc/scipy/reference/generated/scipy.integrate.odeint.html\n",
    "# y0 = [0,0,0,0,0,0,0]\n",
    "# initial conditions approximated after reaching some system equilibrium\n",
    "y0 = [-4.497078351339751, -0.07000000000052416, 13.235369640119554, -0.07243371889456507, -0.7498943126792074, 0.998695292851908, -0.052757705883684586]\n",
    "t = np.linspace(0,24*60*60,100)\n",
    "(sol,temp) = odeint(model,y0,t, full_output = True)\n",
    "C = circadian_drive(sol[:, 3],sol[:, 4])\n",
    "AM_KSS = alertness_measure_kss(C,sol[:, 2], sol[:, 6])"
   ]
  },
  {
   "cell_type": "code",
   "execution_count": 129,
   "metadata": {},
   "outputs": [
    {
     "data": {
      "text/plain": [
       "array([[-4.49707835e+000, -7.00000000e-002,  1.32353696e+001,\n",
       "        -7.24337189e-002, -7.49894313e-001,  9.98695293e-001,\n",
       "        -5.27577059e-002],\n",
       "       [-4.48679138e+000, -7.00000000e-002,  1.32429943e+001,\n",
       "        -1.13904448e-001, -7.44884528e-001,  9.15554205e-001,\n",
       "        -5.06038548e-002],\n",
       "       [ 4.67200108e-062,  6.93518489e-310,  5.51718906e-313,\n",
       "         7.00258611e-313,  8.48798317e-314,  1.27319747e-313,\n",
       "         6.01346930e-154],\n",
       "       [ 6.93518489e-310,  5.51718906e-313,  7.00258611e-313,\n",
       "         8.48798317e-314,  1.27319747e-313,  1.31505870e-047,\n",
       "         6.93518126e-310],\n",
       "       [ 1.28457068e-322,  6.93518126e-310,  4.94065646e-324,\n",
       "         6.93518126e-310,  6.93510664e-310,  6.93518126e-310,\n",
       "         6.93510664e-310],\n",
       "       [ 6.93518126e-310,  6.93510664e-310,  6.93518126e-310,\n",
       "         1.92685602e-322,  6.93518126e-310,  6.93510664e-310,\n",
       "         6.93518126e-310],\n",
       "       [ 6.93510664e-310,  6.93518126e-310,  6.93510664e-310,\n",
       "         6.93518126e-310,  6.93510664e-310,  6.93518126e-310,\n",
       "         6.93510664e-310],\n",
       "       [ 6.93518126e-310,  6.01346930e-154,  6.93518126e-310,\n",
       "         7.00258616e-313,  6.93518126e-310,  1.92685602e-322,\n",
       "         6.93518126e-310],\n",
       "       [ 5.42978145e-321,  6.93518126e-310,  0.00000000e+000,\n",
       "         0.00000000e+000,  0.00000000e+000,  6.93510664e-310,\n",
       "         4.95188938e-310],\n",
       "       [ 6.93518126e-310,  1.18575755e-322,  6.93518489e-310,\n",
       "         4.94065646e-324,  7.63918485e-313,  8.48798317e-314,\n",
       "         1.27319747e-313],\n",
       "       [ 6.93510664e-310,  6.93518482e-310,  3.64460917e-086,\n",
       "         7.63918485e-313,  1.48539705e-313,  3.18299369e-313,\n",
       "         6.93510664e-310],\n",
       "       [ 6.93518126e-310,  6.93518482e-310,  4.94065646e-324,\n",
       "         8.48798317e-314,  3.18299369e-313,  6.93510664e-310,\n",
       "         6.93518126e-310],\n",
       "       [ 6.93518126e-310,  0.00000000e+000,  8.48798317e-314,\n",
       "         1.69759663e-313,  6.93510664e-310,  6.93518489e-310,\n",
       "         6.93510664e-310],\n",
       "       [ 2.40710120e-057,  8.48798317e-314,  1.27319747e-313,\n",
       "         6.93510664e-310,  6.93518126e-310,  6.93510664e-310,\n",
       "         6.93518126e-310],\n",
       "       [ 6.93510664e-310,  6.93518126e-310,  6.93510664e-310,\n",
       "         6.93518126e-310,  6.93510664e-310,  6.93518126e-310,\n",
       "         6.93510664e-310],\n",
       "       [ 6.93518126e-310,  6.93510664e-310,  6.93518126e-310,\n",
       "         6.93510664e-310,  6.93518126e-310,  6.93510664e-310,\n",
       "         6.93518126e-310],\n",
       "       [ 6.93510664e-310,  6.93518126e-310,  6.93510664e-310,\n",
       "         6.93518126e-310,  1.39804304e-076,  6.93518126e-310,\n",
       "         7.85138448e-313],\n",
       "       [ 6.93518126e-310,  6.93510664e-310,  6.93518126e-310,\n",
       "         6.01334412e-154,  6.93518126e-310,  6.93518126e-310,\n",
       "         0.00000000e+000],\n",
       "       [ 6.93518126e-310,  1.08801129e-071,  6.93518126e-310,\n",
       "         2.47032823e-323,  6.57818695e-313,  3.67199539e-062,\n",
       "         6.93518126e-310],\n",
       "       [ 5.98149003e-154,  6.93518126e-310,  4.94065646e-324,\n",
       "         6.93518126e-310,  5.05692070e-038,  0.00000000e+000,\n",
       "         8.60428732e-043],\n",
       "       [ 0.00000000e+000,  6.01346930e-154,  6.93518686e-310,\n",
       "         2.62395791e+179,  6.93518126e-310,  2.12199579e-314,\n",
       "         8.48798317e-314],\n",
       "       [ 8.51514177e-096,  6.93518686e-310,  1.08539798e-071,\n",
       "         6.93518126e-310,  2.12199579e-314,  8.48798317e-314,\n",
       "         4.44891504e-086],\n",
       "       [ 6.93518686e-310,  6.93510664e-310,  0.00000000e+000,\n",
       "         2.12199579e-314,  8.48798317e-314,  1.08539798e-071,\n",
       "         0.00000000e+000],\n",
       "       [ 7.85138443e-313,  0.00000000e+000,  6.93510664e-310,\n",
       "         6.93518686e-310,  6.93510664e-310,  4.94065646e-324,\n",
       "         2.12199579e-314],\n",
       "       [ 8.48798317e-314,  6.93510664e-310,  6.93518126e-310,\n",
       "         6.01346930e-154,  6.93518126e-310,  2.12199585e-313,\n",
       "         6.93518126e-310],\n",
       "       [ 2.07507571e-322,  6.93518126e-310,  5.41495948e-321,\n",
       "         6.93518126e-310,  6.93510664e-310,  6.93518126e-310,\n",
       "         3.57280380e-062],\n",
       "       [ 6.93518126e-310,  2.12199579e-313,  6.93518126e-310,\n",
       "         6.93510664e-310,  6.93518126e-310,  7.58065671e-096,\n",
       "         6.93518812e-310],\n",
       "       [ 2.12199579e-313,  6.93518126e-310,  6.93510664e-310,\n",
       "         6.93518126e-310,  3.44353270e-086,  6.93518126e-310,\n",
       "         2.12199579e-313],\n",
       "       [ 6.93518126e-310,  6.93510664e-310,  6.93518686e-310,\n",
       "         6.93510664e-310,  1.39642613e-076,  2.12199579e-314,\n",
       "         8.48798317e-314],\n",
       "       [ 1.18575755e-322,  6.93518686e-310,  6.93510664e-310,\n",
       "         1.05147855e-153,  2.12199579e-314,  8.48798317e-314,\n",
       "         4.88059037e-313],\n",
       "       [ 6.93518126e-310,  6.93510664e-310,  6.93518126e-310,\n",
       "         5.43472210e-321,  6.93518126e-310,  6.93510664e-310,\n",
       "         6.93518126e-310],\n",
       "       [ 6.93510664e-310,  6.93518126e-310,  6.93510664e-310,\n",
       "         6.93518126e-310,  6.93510664e-310,  6.93518126e-310,\n",
       "         6.93510664e-310],\n",
       "       [ 6.93518126e-310,  6.93510664e-310,  6.93518126e-310,\n",
       "         6.93510664e-310,  6.93518126e-310,  6.93510664e-310,\n",
       "         6.93518126e-310],\n",
       "       [ 6.93510664e-310,  6.93518126e-310,  6.93510664e-310,\n",
       "         6.93518539e-310,  6.93510664e-310,  6.01346930e-154,\n",
       "         1.06099790e-313],\n",
       "       [ 1.90979621e-313,  4.94065646e-324,  6.93510664e-310,\n",
       "         6.93518803e-310,  0.00000000e+000,  6.93518073e-310,\n",
       "         6.93518126e-310],\n",
       "       [ 0.00000000e+000,  0.00000000e+000,  0.00000000e+000,\n",
       "         6.93518073e-310,  6.93518073e-310,  0.00000000e+000,\n",
       "         0.00000000e+000],\n",
       "       [ 6.93510664e-310,  6.93510664e-310,  6.93518126e-310,\n",
       "         6.93510664e-310,  4.04738577e-320,  4.04343325e-320,\n",
       "         6.93518126e-310],\n",
       "       [ 6.93518126e-310,  6.93510664e-310,  6.93518126e-310,\n",
       "         6.93510664e-310,  6.93518126e-310,  6.93510664e-310,\n",
       "         6.93518489e-310],\n",
       "       [ 6.93510664e-310,  6.93510664e-310,  8.48798317e-314,\n",
       "         1.27319747e-313,  1.39642613e-076,  6.93518489e-310,\n",
       "         1.90979621e-313],\n",
       "       [ 6.93510664e-310,  8.48798317e-314,  1.27319747e-313,\n",
       "         1.15297972e-259,  6.93518489e-310,  1.90979621e-313,\n",
       "         5.30498953e-313],\n",
       "       [ 8.48798317e-314,  1.27319747e-313,  6.93510664e-310,\n",
       "         6.93518126e-310,  6.93510664e-310,  6.93518126e-310,\n",
       "         4.94065646e-324],\n",
       "       [ 6.93518126e-310,  6.93510664e-310,  6.93518126e-310,\n",
       "         6.93510664e-310,  6.93518126e-310,  6.93510664e-310,\n",
       "         6.93518126e-310],\n",
       "       [ 6.93510664e-310,  6.93518126e-310,  6.93510664e-310,\n",
       "         6.93518126e-310,  6.93510664e-310,  6.93518126e-310,\n",
       "         6.93510664e-310],\n",
       "       [ 6.93518126e-310,  6.93510664e-310,  6.93518126e-310,\n",
       "         5.41990013e-321,  6.93518126e-310,  6.93510664e-310,\n",
       "         6.93518126e-310],\n",
       "       [ 5.42484079e-321,  6.93518126e-310,  6.93510664e-310,\n",
       "         6.93518126e-310,  6.93510664e-310,  6.93518126e-310,\n",
       "         2.75859453e-313],\n",
       "       [ 6.93518126e-310,  5.93971631e-038,  6.93518126e-310,\n",
       "         1.92685602e-322,  6.93518126e-310,  1.18575755e-322,\n",
       "         6.93518489e-310],\n",
       "       [ 6.01346930e-154,  6.93518126e-310,  8.48798317e-314,\n",
       "         1.27319747e-313,  1.39804304e-076,  6.93518482e-310,\n",
       "         1.57212503e-076],\n",
       "       [ 6.93518126e-310,  1.48539705e-313,  3.18299369e-313,\n",
       "         3.57280380e-062,  6.93518126e-310,  6.93518482e-310,\n",
       "         6.93510664e-310],\n",
       "       [ 8.48798317e-314,  3.18299369e-313,  7.57880650e-096,\n",
       "         6.93518126e-310,  6.93518126e-310,  0.00000000e+000,\n",
       "         8.48798317e-314],\n",
       "       [ 6.57818695e-313,  1.06099790e-313,  6.93518489e-310,\n",
       "         6.03104652e-154,  6.93518539e-310,  8.48798317e-314,\n",
       "         1.27319747e-313],\n",
       "       [ 1.06099795e-313,  6.93518126e-310,  6.01346930e-154,\n",
       "         6.93518126e-310,  2.62395791e+179,  6.93518126e-310,\n",
       "         1.06099790e-313],\n",
       "       [ 6.93518126e-310,  2.75859458e-313,  6.93518126e-310,\n",
       "         6.01346930e-154,  6.93518126e-310,  5.33590898e-321,\n",
       "         6.93518126e-310],\n",
       "       [ 2.75859453e-313,  6.93518126e-310,  3.21743503e-057,\n",
       "         6.93518126e-310,  1.92685602e-322,  6.93518126e-310,\n",
       "         6.93510664e-310],\n",
       "       [ 6.93518126e-310,  6.93510664e-310,  6.93518126e-310,\n",
       "         4.44891504e-086,  6.93518126e-310,  2.12199579e-313,\n",
       "         6.93518126e-310],\n",
       "       [ 6.93510664e-310,  6.93518126e-310,  6.93518126e-310,\n",
       "         0.00000000e+000,  6.93518126e-310,  6.93510664e-310,\n",
       "         0.00000000e+000],\n",
       "       [ 2.47032823e-323,  6.57818695e-313,  6.93510664e-310,\n",
       "         6.93518126e-310,  2.75859453e-313,  6.93518126e-310,\n",
       "         4.94065646e-324],\n",
       "       [ 6.93518126e-310,  6.93510664e-310,  0.00000000e+000,\n",
       "         6.93510664e-310,  0.00000000e+000,  6.93510664e-310,\n",
       "         6.93518686e-310],\n",
       "       [ 6.93510664e-310,  6.93518126e-310,  2.12199579e-314,\n",
       "         8.48798317e-314,  1.18575755e-322,  6.93518686e-310,\n",
       "         5.98149003e-154],\n",
       "       [ 6.93518126e-310,  2.12199579e-314,  8.48798317e-314,\n",
       "         6.01346930e-154,  6.93518686e-310,  1.39642613e-076,\n",
       "         6.93518126e-310],\n",
       "       [ 2.12199579e-314,  8.48798317e-314,  4.46967915e-033,\n",
       "         0.00000000e+000,  6.01346930e-154,  0.00000000e+000,\n",
       "         8.48798318e-314],\n",
       "       [ 6.93518686e-310,  1.39642613e-076,  0.00000000e+000,\n",
       "         2.12199579e-314,  8.48798317e-314,  5.05214445e-086,\n",
       "         6.93518126e-310],\n",
       "       [ 1.15297972e-259,  6.93518126e-310,  4.24399164e-313,\n",
       "         6.93518126e-310,  1.74652330e-076,  6.93518126e-310,\n",
       "         2.90925448e-033],\n",
       "       [ 6.93518126e-310,  8.48798318e-314,  6.93518126e-310,\n",
       "         2.31655955e-052,  6.93518126e-310,  5.05692070e-038,\n",
       "         6.93518126e-310],\n",
       "       [ 8.48798371e-314,  6.93518126e-310,  6.01346930e-154,\n",
       "         6.93518126e-310,  3.27422663e+179,  6.93518126e-310,\n",
       "         8.09244536e-153],\n",
       "       [ 6.93518126e-310,  8.04697413e-096,  6.93518126e-310,\n",
       "         1.08539798e-071,  6.93518126e-310,  1.21156908e-099,\n",
       "         6.93518686e-310],\n",
       "       [ 1.69759663e-313,  6.93518492e-310,  2.12199579e-314,\n",
       "         8.48798317e-314,  4.24399158e-313,  6.93518686e-310,\n",
       "         1.08539798e-071],\n",
       "       [ 6.93518664e-310,  2.12199579e-314,  8.48798317e-314,\n",
       "         5.51718911e-313,  6.93518126e-310,  4.67200108e-062,\n",
       "         6.93518126e-310],\n",
       "       [ 4.27934310e-033,  6.93518126e-310,  2.00701224e-052,\n",
       "         6.93518126e-310,  6.01346930e-154,  6.93518126e-310,\n",
       "         3.60093525e+179],\n",
       "       [ 6.93518126e-310,  4.67200108e-062,  6.93518126e-310,\n",
       "         3.69596546e-057,  6.93518126e-310,  6.01346930e-154,\n",
       "         6.93518126e-310],\n",
       "       [ 3.57280380e-062,  6.93518126e-310,  3.44371372e-086,\n",
       "         6.93518126e-310,  6.03105221e-154,  6.93518126e-310,\n",
       "         4.66839074e-313],\n",
       "       [ 6.93518539e-310,  1.39642613e-076,  6.93518126e-310,\n",
       "         1.06099790e-313,  1.90979621e-313,  4.66839079e-313,\n",
       "         6.93518126e-310],\n",
       "       [ 6.03105221e-154,  0.00000000e+000,  5.51718911e-313,\n",
       "         6.93518126e-310,  2.73886571e-057,  6.93518126e-310,\n",
       "         6.01346930e-154],\n",
       "       [ 6.93518126e-310,  5.51718906e-313,  6.93518126e-310,\n",
       "         8.24168107e-067,  6.93518126e-310,  5.05692070e-038,\n",
       "         6.93518126e-310],\n",
       "       [ 6.01346930e-154,  6.93518126e-310,  1.18295387e-076,\n",
       "         6.93518126e-310,  3.27422663e+179,  6.93518126e-310,\n",
       "         1.40006846e-076],\n",
       "       [ 6.93518126e-310,  6.01346930e-154,  6.93518126e-310,\n",
       "         1.48541282e-076,  6.93518126e-310,  9.15780177e-072,\n",
       "         6.93518539e-310],\n",
       "       [ 4.66839074e-313,  6.93518126e-310,  1.06099790e-313,\n",
       "         1.90979621e-313,  8.51514177e-096,  6.93518539e-310,\n",
       "         8.61136223e-043],\n",
       "       [ 6.93518253e-310,  1.06099790e-313,  1.90979621e-313,\n",
       "         6.15378785e-313,  6.93518126e-310,  6.93510664e-310,\n",
       "         6.93518126e-310],\n",
       "       [ 4.66839079e-313,  6.93518126e-310,  6.01346930e-154,\n",
       "         6.93518126e-310,  3.57280380e-062,  6.93518126e-310,\n",
       "         3.27422663e+179],\n",
       "       [ 6.93518126e-310,  1.39804304e-076,  6.93518126e-310,\n",
       "         1.69759663e-313,  6.93518126e-310,  4.18106539e-062,\n",
       "         6.93518126e-310],\n",
       "       [ 3.57280937e-062,  6.93518126e-310,  1.69759669e-313,\n",
       "         6.93518126e-310,  5.51675341e-048,  6.93518126e-310,\n",
       "         0.00000000e+000],\n",
       "       [ 0.00000000e+000,  1.69759669e-313,  6.93518126e-310,\n",
       "         6.00166829e-067,  0.00000000e+000,  4.94065646e-324,\n",
       "         6.93518126e-310],\n",
       "       [ 9.88131292e-324,  6.93518126e-310,  6.93518126e-310,\n",
       "         6.36598737e-313,  6.93518126e-310,  6.93510664e-310,\n",
       "         6.12104327e-062],\n",
       "       [ 2.96439388e-323,  2.12199579e-313,  6.36598737e-313,\n",
       "         6.93518686e-310,  6.93510664e-310,  8.94213053e+130,\n",
       "         2.12199579e-314],\n",
       "       [ 8.48798317e-314,  6.93510664e-310,  6.93518686e-310,\n",
       "         6.93510664e-310,  3.27422663e+179,  2.12199579e-314,\n",
       "         8.48798317e-314],\n",
       "       [ 6.93510664e-310,  6.93518126e-310,  6.93510664e-310,\n",
       "         6.93518126e-310,  6.93510664e-310,  0.00000000e+000,\n",
       "         6.93510664e-310],\n",
       "       [ 6.93518126e-310,  6.93510664e-310,  6.93518539e-310,\n",
       "         6.93510664e-310,  5.64925517e-038,  1.06099790e-313,\n",
       "         1.90979621e-313],\n",
       "       [ 6.93510664e-310,  6.93518539e-310,  1.21246291e-099,\n",
       "         6.79038653e-313,  1.06099790e-313,  1.90979621e-313,\n",
       "         6.93510664e-310],\n",
       "       [ 6.93518539e-310,  9.88131292e-324,  1.19988249e-071,\n",
       "         1.06099790e-313,  1.90979621e-313,  6.93510664e-310,\n",
       "         6.93518126e-310],\n",
       "       [ 6.93510664e-310,  6.93518126e-310,  4.94065646e-324,\n",
       "         6.93518126e-310,  6.93510664e-310,  6.93518126e-310,\n",
       "         6.93510664e-310],\n",
       "       [ 0.00000000e+000,  9.88131292e-324,  6.93518126e-310,\n",
       "         6.93518126e-310,  5.51681605e-048,  6.93518126e-310,\n",
       "         1.05118778e-153],\n",
       "       [ 6.93518126e-310,  2.96439388e-323,  2.12199579e-313,\n",
       "         2.00701224e-052,  6.93518126e-310,  6.01334412e-154,\n",
       "         6.93518126e-310],\n",
       "       [ 1.17633491e-047,  6.93518126e-310,  6.79038653e-313,\n",
       "         0.00000000e+000,  1.18575755e-322,  6.93518581e-310,\n",
       "         6.93510664e-310],\n",
       "       [ 6.12104327e-062,  2.75859453e-313,  4.03179200e-313,\n",
       "         6.93510664e-310,  6.93518126e-310,  6.93510664e-310,\n",
       "         0.00000000e+000],\n",
       "       [ 6.93510664e-310,  6.93518126e-310,  6.93510664e-310,\n",
       "         6.93518126e-310,  6.93510664e-310,  6.93518126e-310,\n",
       "         6.93510664e-310],\n",
       "       [ 6.93518126e-310,  6.93510664e-310,  6.93518126e-310,\n",
       "         6.93510664e-310,  6.93518126e-310,  6.93510664e-310,\n",
       "         6.93518126e-310],\n",
       "       [ 6.93510664e-310,  6.93518126e-310,  6.93510664e-310,\n",
       "         6.93518126e-310,  6.93510664e-310,  6.93518126e-310,\n",
       "         5.44954407e-321],\n",
       "       [ 6.93518126e-310,  6.93510664e-310,  6.93518126e-310,\n",
       "         6.93510664e-310,  6.93518492e-310,  4.94065646e-324,\n",
       "         1.48219694e-323],\n",
       "       [ 4.24399158e-313,  5.30498948e-313,  6.93510664e-310,\n",
       "         6.93518492e-310,  6.93510664e-310,  1.69759663e-313,\n",
       "         4.24399158e-313],\n",
       "       [ 5.30498948e-313,  9.12458196e-313,  6.93518126e-310,\n",
       "         6.93510664e-310,  6.93518126e-310,  5.43472210e-321,\n",
       "         6.93518126e-310],\n",
       "       [ 6.93510664e-310,  6.93518126e-310,  6.93510664e-310,\n",
       "         6.93518126e-310,  6.93510664e-310,  6.93518126e-310,\n",
       "         6.93510664e-310]])"
      ]
     },
     "execution_count": 129,
     "metadata": {},
     "output_type": "execute_result"
    }
   ],
   "source": [
    "sol"
   ]
  },
  {
   "cell_type": "code",
   "execution_count": 116,
   "metadata": {},
   "outputs": [
    {
     "data": {
      "image/png": "[encoded data removed]",
      "text/plain": [
       "<Figure size 432x288 with 1 Axes>"
      ]
     },
     "metadata": {
      "needs_background": "light"
     },
     "output_type": "display_data"
    }
   ],
   "source": [
    "plt.plot(t, sol[:, 0], 'b', label='V_v(t)')\n",
    "plt.plot(t, sol[:, 1], 'g', label='V_m(t)')\n",
    "plt.plot(t, sol[:, 2], 'r', label='H(t)')\n",
    "plt.plot(t, sol[:, 3], 'c', label='X(t)')\n",
    "plt.plot(t, sol[:, 4], 'm', label='Y(t)')\n",
    "plt.plot(t, sol[:, 5], 'y', label='P(t)')\n",
    "plt.plot(t, sol[:, 6], 'darkred', label='Theta_L(t)')\n",
    "plt.plot(t, C, 'k', label='C(t)')\n",
    "plt.plot(t, AM_KSS, 'darkorange', label='AM_KSS(t)')\n",
    "plt.legend(loc='best')\n",
    "plt.xlabel('t')\n",
    "#plt.xlim([200000,600000])\n",
    "plt.grid()\n",
    "plt.show()"
   ]
  },
  {
   "cell_type": "code",
   "execution_count": 72,
   "metadata": {},
   "outputs": [
    {
     "name": "stdout",
     "output_type": "stream",
     "text": [
      "-4.497078351339751\n",
      "-0.07000000000052416\n",
      "13.235369640119554\n",
      "-0.07243371889456507\n",
      "-0.7498943126792074\n",
      "0.998695292851908\n",
      "-0.052757705883684586\n"
     ]
    }
   ],
   "source": [
    "#print(sol[800, 0])\n",
    "#print(sol[800, 1])\n",
    "#print(sol[800, 2])\n",
    "#print(sol[800, 3])\n",
    "#print(sol[800, 4])\n",
    "#print(sol[800, 5])\n",
    "#print(sol[800, 6])"
   ]
  },
  {
   "cell_type": "code",
   "execution_count": 97,
   "metadata": {},
   "outputs": [
    {
     "data": {
      "text/plain": [
       "array([  3.88691836,   3.95104602,   4.00359156, -24.98751132,\n",
       "       -24.98751132, -24.98751132, -24.98751132, -24.98751132,\n",
       "       -24.98751132, -24.98751132, -24.98751132, -24.98751132,\n",
       "       -24.98751132, -24.98751132, -24.98751132, -24.98751132,\n",
       "       -24.98751132, -24.98751132, -24.98751132, -24.98751132,\n",
       "       -24.98751132, -24.98751132, -24.98751132, -24.98751132,\n",
       "       -24.98751132, -24.98751132, -24.98751132, -24.98751132,\n",
       "       -24.98751132, -24.98751132, -24.98751132, -24.98751132,\n",
       "       -24.98751132, -24.98751132, -24.98751132, -24.98751132,\n",
       "       -24.98751132, -24.98751132, -24.98751132, -24.98751132,\n",
       "       -24.98751132, -24.98751132, -24.98751132, -24.98751132,\n",
       "       -24.98751132, -24.98751132, -24.98751132, -24.98751132,\n",
       "       -24.98751132, -24.98751132, -24.98751132, -24.98751132,\n",
       "       -24.98751132, -24.98751132, -24.98751132, -24.98751132,\n",
       "       -24.98751132, -24.98751132, -24.98751132, -24.98751132,\n",
       "       -24.98751132, -24.98751132, -24.98751132, -24.98751132,\n",
       "       -24.98751132, -24.98751132, -24.98751132, -24.98751132,\n",
       "       -24.98751132, -24.98751132, -24.98751132, -24.98751132,\n",
       "       -24.98751132, -24.98751132, -24.98751132, -24.98751132,\n",
       "       -24.98751132, -24.98751132, -24.98751132, -24.98751132,\n",
       "       -24.98751132, -24.98751132, -24.98751132, -24.98751132,\n",
       "       -24.98751132, -24.98751132, -24.98751132, -24.98751132,\n",
       "       -24.98751132, -24.98751132, -24.98751132, -24.98751132,\n",
       "       -24.98751132, -24.98751132, -24.98751132, -24.98751132,\n",
       "       -24.98751132, -24.98751132, -24.98751132, -24.98751132])"
      ]
     },
     "execution_count": 97,
     "metadata": {},
     "output_type": "execute_result"
    }
   ],
   "source": [
    "AM_KSS"
   ]
  },
  {
   "cell_type": "code",
   "execution_count": null,
   "metadata": {},
   "outputs": [],
   "source": []
  }
 ],
 "metadata": {
  "kernelspec": {
   "display_name": "Python 3",
   "language": "python",
   "name": "python3"
  },
  "language_info": {
   "codemirror_mode": {
    "name": "ipython",
    "version": 3
   },
   "file_extension": ".py",
   "mimetype": "text/x-python",
   "name": "python",
   "nbconvert_exporter": "python",
   "pygments_lexer": "ipython3",
   "version": "3.9.0"
  }
 },
 "nbformat": 4,
 "nbformat_minor": 4
}
