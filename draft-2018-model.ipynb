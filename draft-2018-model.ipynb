{
 "cells": [
  {
   "cell_type": "code",
   "execution_count": 1,
   "metadata": {},
   "outputs": [],
   "source": [
    "import math\n",
    "import numpy as np\n",
    "from numpy import sqrt, exp, pi, power, tanh\n",
    "from scipy.integrate import odeint\n",
    "import matplotlib.pyplot as plt"
   ]
  },
  {
   "cell_type": "code",
   "execution_count": 2,
   "metadata": {},
   "outputs": [],
   "source": [
    "# time constants: Postnova et al. 2018 - Table 1\n",
    "tau_v = 50 #s\n",
    "tau_m = tau_v\n",
    "tau_H = 59*3600 #s\n",
    "tau_X = (24*3600) / (2*pi) #s\n",
    "tau_Y = tau_X\n",
    "tau_C = 24.2*3600 #s"
   ]
  },
  {
   "cell_type": "code",
   "execution_count": 3,
   "metadata": {},
   "outputs": [],
   "source": [
    "# coupling strengths constants: Postnova et al. 2018 - Table 1\n",
    "nu_vm = -2.1 #mV\n",
    "nu_mv = -1.8 #mV\n",
    "nu_Hm = 4.57 #s\n",
    "nu_Xp = 37*60 #s\n",
    "nu_Xn = 0.032\n",
    "nu_YY = (1/3)*nu_Xp #???? OK seems\n",
    "nu_YX = 0.55*nu_Xp\n",
    "nu_vH = 1\n",
    "nu_vC = -0.5 #mV"
   ]
  },
  {
   "cell_type": "code",
   "execution_count": 4,
   "metadata": {},
   "outputs": [],
   "source": [
    "# external neuronal drives constants: Postnova et al. 2018 - Table 1\n",
    "A_v = -10.3 #mV\n",
    "D_m = 1.3 #mV\n",
    "A_m = D_m"
   ]
  },
  {
   "cell_type": "code",
   "execution_count": 5,
   "metadata": {},
   "outputs": [],
   "source": [
    "# circadian constants: Postnova et al. 2018 - Table 1\n",
    "gamma = 0.13\n",
    "delta = 24*3600/0.99729 #s\n",
    "beta = 0.007/60 #sˆ-1"
   ]
  },
  {
   "cell_type": "code",
   "execution_count": 6,
   "metadata": {},
   "outputs": [],
   "source": [
    "# nonphotic drive constant: Postnova et al. 2018 - Table 1\n",
    "r = 10"
   ]
  },
  {
   "cell_type": "code",
   "execution_count": 7,
   "metadata": {},
   "outputs": [],
   "source": [
    "# photic drive constants: Postnova et al. 2018 - Table 1\n",
    "epsilon = 0.4\n",
    "I_0 = 100 #lx\n",
    "I_1 = 9500 #lx\n",
    "alpha_0 = 0.1/60 #sˆ-1"
   ]
  },
  {
   "cell_type": "code",
   "execution_count": 8,
   "metadata": {},
   "outputs": [],
   "source": [
    "# firing rate constants: Postnova et al. 2018 - Table 1\n",
    "Q_max = 100 #sˆ-1\n",
    "theta = 10 #mV\n",
    "sigma = 3 #mV #prime???"
   ]
  },
  {
   "cell_type": "code",
   "execution_count": 9,
   "metadata": {},
   "outputs": [],
   "source": [
    "# wake effort constants: Postnova et al. 2018 - Table 1\n",
    "V_WE = -0.07 #mv\n",
    "V_th = -2 #mV\n",
    "F_W = 1 # if forced wake, 0 otherwise #????"
   ]
  },
  {
   "cell_type": "code",
   "execution_count": 10,
   "metadata": {},
   "outputs": [],
   "source": [
    "# circadian phase constants: Postnova et al. 2018 - Table 1\n",
    "MELpeak_t_0 = 0.7*3600 #s\n",
    "CBTmin_t_0 = 2.7*3600 #s"
   ]
  },
  {
   "cell_type": "code",
   "execution_count": 11,
   "metadata": {},
   "outputs": [],
   "source": [
    "# KSS: Karolinska Sleepiness Scale\n",
    "# Ranges from 1 = \"Extremely alert\" to 9 = \"Extremely sleepy, fighting sleep.\"\n",
    "# KSS default parameters: Postnova et al. 2018 - Table 3\n",
    "Theta_0_KSS = -24.34\n",
    "Theta_H_KSS = 2.28\n",
    "Theta_C_KSS = -1.74"
   ]
  },
  {
   "cell_type": "code",
   "execution_count": 13,
   "metadata": {},
   "outputs": [],
   "source": [
    "# state function\n",
    "def state(V_m): # Postnova et al. 2018 - Table 1, Equation 15\n",
    "    if (V_m > V_th):\n",
    "        S = 1\n",
    "    else:\n",
    "        S = 0\n",
    "    return S"
   ]
  },
  {
   "cell_type": "code",
   "execution_count": 14,
   "metadata": {},
   "outputs": [],
   "source": [
    "# the photoreceptor conversion rate\n",
    "def alpha(I, S = 1): \n",
    "    I = I*S # Postnova et al. 2018 - Table 1, Equation 14\n",
    "    alpha = ((alpha_0*I)/(I+I_1))*sqrt(I/I_0) # Postnova et al. 2018 - Table 1, Equation 13\n",
    "    return alpha"
   ]
  },
  {
   "cell_type": "code",
   "execution_count": 15,
   "metadata": {},
   "outputs": [],
   "source": [
    "# photic drive to the circadian function\n",
    "def photic_drive(X, Y, P, I, S = 1):\n",
    "    D_p = alpha(I,S)*(1-P)*(1-epsilon*X)*(1-epsilon*Y) # Postnova et al. 2018 - Table 1, Equation 12\n",
    "    return D_p"
   ]
  },
  {
   "cell_type": "code",
   "execution_count": 16,
   "metadata": {},
   "outputs": [],
   "source": [
    "# nonphotic drive to the circadian function\n",
    "def nonphotic_drive(X, S = 1):\n",
    "    D_n = (S-(2/3))*(1-tanh(r*X)) # Postnova et al. 2018 - Table 1, Equation 11\n",
    "    return D_n"
   ]
  },
  {
   "cell_type": "code",
   "execution_count": 17,
   "metadata": {},
   "outputs": [],
   "source": [
    "# mean population firing rate function\n",
    "def mean_pop_firing_rate(V):\n",
    "    Q = Q_max / (1 + exp((theta-V)/sigma)) # Postnova et al. 2018 - Table 1, Equation 7\n",
    "    return Q"
   ]
  },
  {
   "cell_type": "code",
   "execution_count": 18,
   "metadata": {},
   "outputs": [],
   "source": [
    "# total sleep drive\n",
    "def total_sleep_drive(H,C):\n",
    "    D_v = nu_vH*H + nu_vC*C + A_v # Postnova et al. 2018 - Table 1, Equation 9\n",
    "    return D_v"
   ]
  },
  {
   "cell_type": "code",
   "execution_count": 19,
   "metadata": {},
   "outputs": [],
   "source": [
    "# Circadian drive, sleep propensity model\n",
    "def circadian_drive(X,Y):\n",
    "    X = np.array(X)\n",
    "    Y = np.array(Y)\n",
    "    C = 0.1*((1+X)/2)+power(((3.1*X - 2.5*Y + 4.2)/(3.7*(X+2))),2) # Postnova et al. 2016 - Equations 1, 2, and 3\n",
    "    return C"
   ]
  },
  {
   "cell_type": "code",
   "execution_count": 20,
   "metadata": {},
   "outputs": [],
   "source": [
    "# KSS Alertness measure\n",
    "def alertness_measure_kss(C,H):\n",
    "    AM_KSS = Theta_0_KSS + Theta_H_KSS*H + Theta_C_KSS*C # Postnova et al. 2018 - Equation 23\n",
    "    return AM_KSS"
   ]
  },
  {
   "cell_type": "code",
   "execution_count": 21,
   "metadata": {},
   "outputs": [],
   "source": [
    "def wake_effort(Q_v):\n",
    "    W = F_W * max(0, V_WE-nu_mv*Q_v-D_m) # Postnova et al. 2018 - Table 1, Equation 8\n",
    "    return W"
   ]
  },
  {
   "cell_type": "code",
   "execution_count": 22,
   "metadata": {},
   "outputs": [],
   "source": [
    "def illuminance(t):\n",
    "    if t < 8*60*60 or t > 22*60*60:\n",
    "        I = 0\n",
    "    else:\n",
    "        I = 5000\n",
    "    return I"
   ]
  },
  {
   "cell_type": "code",
   "execution_count": 23,
   "metadata": {},
   "outputs": [],
   "source": [
    "### Mean voltages, V_v and V_m of the VLPO and MA\n",
    "# dV_vdt = (nu_vm*Q_m - V_v + D_v)/tau_v # Postnova et al. 2018 - Table 1, Equation 1\n",
    "# dV_mdt = (nu_mv*Q_v - V_m + D_m + W)/tau_m # Postnova et al. 2018 - Table 1, Equation 2\n",
    "### Homeostatic drive\n",
    "# dHdt = (nu_Hm*Q_m - H)/tau_H # Postnova et al. 2018 - Table 1, Equation 3\n",
    "### circadian variables\n",
    "# dXdt = (Y + gamma*(X/3 + power(X,3)*4/3 - power(X,7)*256/105) + nu_Xp*D_p + nu_Xn*D_n)/tau_X # Postnova et al. 2018 - Table 1, Equation 4\n",
    "# dYdt = (D_p*(nu_YY*Y - nu_YX*X) - power((delta/tau_C),2)*X)/tau_Y # Postnova et al. 2018 - Table 1, Equation 5\n",
    "### photoreceptor activity function\n",
    "# dPdt = alpha(I,S)*(1-P)-(beta*P) # Postnova et al. 2018 - Table 1, Equation 6\n",
    "\n",
    "def model(y, t):\n",
    "    V_v, V_m, H, X, Y, P = y\n",
    "\n",
    "    I = illuminance(t)\n",
    "    S = state(V_m)\n",
    "    Q_m = mean_pop_firing_rate(V_m)\n",
    "    Q_v = mean_pop_firing_rate(V_v)\n",
    "    C = circadian_drive(X,Y)\n",
    "    D_v = total_sleep_drive(H,C)\n",
    "    D_n = nonphotic_drive(X, S)\n",
    "    D_p = photic_drive(X, Y, P, I, S)\n",
    "    W = wake_effort(Q_v)\n",
    "    \n",
    "    gradient_y = [(nu_vm*Q_m - V_v + D_v)/tau_v, # V_v, Postnova et al. 2018 - Table 1, Equation 1\n",
    "                  (nu_mv*Q_v - V_m + D_m + W)/tau_m, # V_m, Postnova et al. 2018 - Table 1, Equation 2\n",
    "                  (nu_Hm*Q_m - H)/tau_H, # H, Postnova et al. 2018 - Table 1, Equation 3\n",
    "                  (Y + gamma*(X/3 + power(X,3)*4/3 - power(X,7)*256/105) + nu_Xp*D_p + nu_Xn*D_n)/tau_X, # X, Postnova et al. 2018 - Table 1, Equation 4\n",
    "                  (D_p*(nu_YY*Y - nu_YX*X) - power((delta/tau_C),2)*X)/tau_Y, # Y, Postnova et al. 2018 - Table 1, Equation 5\n",
    "                  alpha(I,S)*(1-P)-(beta*P) # P, Postnova et al. 2018 - Table 1, Equation 6\n",
    "                 ] \n",
    "    return gradient_y"
   ]
  },
  {
   "cell_type": "code",
   "execution_count": 24,
   "metadata": {},
   "outputs": [],
   "source": [
    "# https://docs.scipy.org/doc/scipy/reference/generated/scipy.integrate.odeint.html\n",
    "# y0 = [0,0,0,0,0,0]\n",
    "# initial conditions approximated after reaching some system equilibrium\n",
    "y0 = [-2.870465391131989,-0.06999999999999962,14.772935675785682,0.9725400028797555,-0.04658468834644522,2.902957297661591e-21]\n",
    "t = np.linspace(0,24*60*60,1000)\n",
    "sol = odeint(model,y0,t)\n",
    "C = circadian_drive(sol[:, 3],sol[:, 4])\n",
    "AM_KSS = alertness_measure_kss(C,sol[:, 2])"
   ]
  },
  {
   "cell_type": "code",
   "execution_count": 25,
   "metadata": {},
   "outputs": [
    {
     "data": {
      "image/png": "[encoded data removed]",
      "text/plain": [
       "<Figure size 432x288 with 1 Axes>"
      ]
     },
     "metadata": {
      "needs_background": "light"
     },
     "output_type": "display_data"
    }
   ],
   "source": [
    "plt.plot(t, sol[:, 0], 'b', label='V_v(t)')\n",
    "plt.plot(t, sol[:, 1], 'g', label='V_m(t)')\n",
    "plt.plot(t, sol[:, 2], 'r', label='H(t)')\n",
    "plt.plot(t, sol[:, 3], 'c', label='X(t)')\n",
    "plt.plot(t, sol[:, 4], 'm', label='Y(t)')\n",
    "plt.plot(t, sol[:, 5], 'y', label='P(t)')\n",
    "plt.plot(t, C, 'k', label='C(t)')\n",
    "plt.plot(t, A_KSS, 'darkorange', label='A_KSS(t)')\n",
    "plt.legend(loc='best')\n",
    "plt.xlabel('t')\n",
    "#plt.xlim([200000,600000])\n",
    "plt.grid()\n",
    "plt.show()"
   ]
  },
  {
   "cell_type": "code",
   "execution_count": 72,
   "metadata": {},
   "outputs": [
    {
     "name": "stdout",
     "output_type": "stream",
     "text": [
      "-2.0554825647371104\n",
      "-0.06999999999999974\n",
      "15.327467373891183\n",
      "-0.7005252668443381\n",
      "0.6569957063182438\n",
      "2.902936772591718e-21\n"
     ]
    }
   ],
   "source": [
    "#print(sol[800, 0])\n",
    "#print(sol[800, 1])\n",
    "#print(sol[800, 2])\n",
    "#print(sol[800, 3])\n",
    "#print(sol[800, 4])\n",
    "#print(sol[800, 5])"
   ]
  },
  {
   "cell_type": "code",
   "execution_count": null,
   "metadata": {},
   "outputs": [],
   "source": []
  },
  {
   "cell_type": "code",
   "execution_count": null,
   "metadata": {},
   "outputs": [],
   "source": []
  }
 ],
 "metadata": {
  "kernelspec": {
   "display_name": "Python 3",
   "language": "python",
   "name": "python3"
  },
  "language_info": {
   "codemirror_mode": {
    "name": "ipython",
    "version": 3
   },
   "file_extension": ".py",
   "mimetype": "text/x-python",
   "name": "python",
   "nbconvert_exporter": "python",
   "pygments_lexer": "ipython3",
   "version": "3.9.0"
  }
 },
 "nbformat": 4,
 "nbformat_minor": 4
}
