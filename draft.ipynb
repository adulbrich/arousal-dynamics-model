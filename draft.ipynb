{
 "cells": [
  {
   "cell_type": "code",
   "execution_count": 88,
   "metadata": {},
   "outputs": [],
   "source": [
    "import math\n",
    "import numpy as np\n",
    "from numpy import sqrt, exp, pi, power, tanh\n",
    "from scipy.integrate import odeint\n",
    "import matplotlib.pyplot as plt"
   ]
  },
  {
   "cell_type": "code",
   "execution_count": 89,
   "metadata": {},
   "outputs": [],
   "source": [
    "# time constants\n",
    "tau_v = 50 #s\n",
    "tau_m = tau_v\n",
    "tau_H = 59*3600 #s\n",
    "tau_X = (24*3600) / (2*pi) #s\n",
    "tau_Y = tau_X\n",
    "tau_C = 24.2*3600 #s"
   ]
  },
  {
   "cell_type": "code",
   "execution_count": 90,
   "metadata": {},
   "outputs": [],
   "source": [
    "# coupling strengths constants\n",
    "nu_vm = -2.1 #mV\n",
    "nu_mv = -1.8 #mV\n",
    "nu_Hm = 4.57 #s\n",
    "nu_Xp = 37*60 #s\n",
    "nu_Xn = 0.032\n",
    "nu_YY = (1/3)*nu_Xp #???? OK seems\n",
    "nu_YX = 0.55*nu_Xp\n",
    "nu_vH = 1\n",
    "nu_vC = -0.5 #mV"
   ]
  },
  {
   "cell_type": "code",
   "execution_count": 91,
   "metadata": {},
   "outputs": [],
   "source": [
    "# external neuronal drives constants\n",
    "A_v = -10.3 #mV\n",
    "D_m = 1.3 #mV\n",
    "A_m = D_m"
   ]
  },
  {
   "cell_type": "code",
   "execution_count": 92,
   "metadata": {},
   "outputs": [],
   "source": [
    "# circadian constants\n",
    "gamma = 0.13\n",
    "delta = 24*3600/0.99729 #s\n",
    "beta = 0.007/60 #sˆ-1"
   ]
  },
  {
   "cell_type": "code",
   "execution_count": 93,
   "metadata": {},
   "outputs": [],
   "source": [
    "# nonphotic drive constant\n",
    "r = 10"
   ]
  },
  {
   "cell_type": "code",
   "execution_count": 94,
   "metadata": {},
   "outputs": [],
   "source": [
    "# photic drive constants\n",
    "epsilon = 0.4\n",
    "I_0 = 100 #lx\n",
    "I_1 = 9500 #lx\n",
    "alpha_0 = 0.1/60 #sˆ-1"
   ]
  },
  {
   "cell_type": "code",
   "execution_count": 95,
   "metadata": {},
   "outputs": [],
   "source": [
    "# firing rate constants\n",
    "Q_max = 100 #sˆ-1\n",
    "theta = 10 #mV\n",
    "sigma = 3 #mV #prime???"
   ]
  },
  {
   "cell_type": "code",
   "execution_count": 96,
   "metadata": {},
   "outputs": [],
   "source": [
    "# wake effort constants\n",
    "V_WE = -0.07 #mv\n",
    "V_th = -2 #mV\n",
    "F_W = 1 # if forced wake, 0 otherwise #????"
   ]
  },
  {
   "cell_type": "code",
   "execution_count": 97,
   "metadata": {},
   "outputs": [],
   "source": [
    "# circadian phase constants\n",
    "MELpeak_t_0 = 0.7*3600 #s\n",
    "CBTmin_t_0 = 2.7*3600 #s"
   ]
  },
  {
   "cell_type": "code",
   "execution_count": 112,
   "metadata": {},
   "outputs": [],
   "source": [
    "# KSS\n",
    "Theta_0_KSS = -24.34\n",
    "Theta_H_KSS = 2.28\n",
    "Theta_C_KSS = -1.74"
   ]
  },
  {
   "cell_type": "code",
   "execution_count": 98,
   "metadata": {},
   "outputs": [],
   "source": [
    "# state function\n",
    "def state(V_m):\n",
    "    if (V_m > V_th):\n",
    "        S = 1\n",
    "    else:\n",
    "        S = 0\n",
    "    return S"
   ]
  },
  {
   "cell_type": "code",
   "execution_count": 99,
   "metadata": {},
   "outputs": [],
   "source": [
    "def alpha(I, S = 1):\n",
    "    I = I*S\n",
    "    alpha = ((alpha_0*I)/(I+I_0))*sqrt(I/I_0)\n",
    "    return alpha"
   ]
  },
  {
   "cell_type": "code",
   "execution_count": 100,
   "metadata": {},
   "outputs": [],
   "source": [
    "# photic drive to the circadian function\n",
    "def photic_drive(X, Y, P, I, S = 1):\n",
    "    D_p = alpha(I,S)*(1-P)*(1-epsilon*X)*(1-epsilon*Y)\n",
    "    return D_p"
   ]
  },
  {
   "cell_type": "code",
   "execution_count": 101,
   "metadata": {},
   "outputs": [],
   "source": [
    "# nonphotic drive to the circadian function\n",
    "def nonphotic_drive(X, S = 1):\n",
    "    D_n = (S-(2/3))*(1-tanh(r*X))\n",
    "    return D_n"
   ]
  },
  {
   "cell_type": "code",
   "execution_count": 102,
   "metadata": {},
   "outputs": [],
   "source": [
    "# mean population firing rate function\n",
    "def mean_pop_firing_rate(V):\n",
    "    Q = Q_max / (1 + exp((theta-V)/sigma))\n",
    "    return Q"
   ]
  },
  {
   "cell_type": "code",
   "execution_count": 103,
   "metadata": {},
   "outputs": [],
   "source": [
    "# total sleep drive\n",
    "def total_sleep_drive(H,C):\n",
    "    D_v = nu_vH*H + nu_vC*C + A_v\n",
    "    return D_v"
   ]
  },
  {
   "cell_type": "code",
   "execution_count": 104,
   "metadata": {},
   "outputs": [],
   "source": [
    "# Circadian drive, sleep propensity model (Postnova et al., 2016)\n",
    "def circadian_drive(X,Y):\n",
    "    X = np.array(X)\n",
    "    Y = np.array(Y)\n",
    "    C = 0.1*((1+X)/2)+power(((3.1*X - 2.5*Y + 4.2)/(3.7*(X+2))),2)\n",
    "    return C"
   ]
  },
  {
   "cell_type": "code",
   "execution_count": 105,
   "metadata": {},
   "outputs": [],
   "source": [
    "def wake_effort(Q_v):\n",
    "    W = F_W * max(0, V_WE-nu_mv*Q_v-D_m)\n",
    "    return W"
   ]
  },
  {
   "cell_type": "code",
   "execution_count": 186,
   "metadata": {},
   "outputs": [],
   "source": [
    "def model(y, t, I):\n",
    "    V_v, V_m, H, X, Y, P = y\n",
    "\n",
    "    S = state(V_m)\n",
    "    Q_m = mean_pop_firing_rate(V_m)\n",
    "    Q_v = mean_pop_firing_rate(V_v)\n",
    "    C = circadian_drive(X,Y)\n",
    "    D_v = total_sleep_drive(H,C)\n",
    "    D_n = nonphotic_drive(X, S)\n",
    "    D_p = photic_drive(X, Y, P, I, S)\n",
    "    W = wake_effort(Q_v)\n",
    "    \n",
    "    dydt = [(nu_vm*Q_m - V_v + D_v)/tau_v, # V_v\n",
    "            (nu_mv*Q_v - V_m + D_m + W)/tau_m, # V_m\n",
    "            (nu_Hm*Q_m - H)/tau_H, # H\n",
    "            (Y + gamma*(X/3 + power(X,3)*4/3 - power(X,7)*256/105) + nu_Xp*D_p + nu_Xn*D_n)/tau_X, # X\n",
    "            (D_p*(nu_YY*Y - nu_YX*X) - power((delta/tau_C),2)*X)/tau_Y, # Y\n",
    "            alpha(I,S)*(1-P)-(beta*P)\n",
    "           ]\n",
    "    \n",
    "    # Mean voltages, V_v and V_m of the VLPO and MA\n",
    "    # dV_vdt = (nu_vm*Q_m - V_v + D_v)/tau_v\n",
    "    # dV_mdt = (nu_mv*Q_v - V_m + D_m + W)/tau_m\n",
    "    \n",
    "    # Homeostatic drive\n",
    "    # dHdt = (nu_Hm*Q_m - H)/tau_H\n",
    "    \n",
    "    # circadian variables\n",
    "    # dXdt = (Y + gamma*(X/3 + power(X,3)*4/3 - power(X,7)*256/105) + nu_Xp*D_p + nu_Xn*D_n)/tau_X\n",
    "    # dYdt = (D_p*(nu_YY*Y - nu_YX*X) - power((delta/tau_C),2)*X)/tau_Y\n",
    "    \n",
    "    # photoreceptor activity function\n",
    "    # dPdt = alpha(I,S)*(1-P)-(beta*P)\n",
    "    \n",
    "    return dydt"
   ]
  },
  {
   "cell_type": "code",
   "execution_count": 192,
   "metadata": {},
   "outputs": [],
   "source": [
    "# https://docs.scipy.org/doc/scipy/reference/generated/scipy.integrate.odeint.html\n",
    "y0 = [0,0,0,0,0,0]\n",
    "t = np.linspace(0,24*60*60,100)\n",
    "sol = odeint(model,y0,t, args = (1000,))\n",
    "C = circadian_drive(sol[:, 3],sol[:, 4])\n",
    "A_KSS = Theta_0_KSS + Theta_H_KSS*sol[:, 2] + Theta_C_KSS*C"
   ]
  },
  {
   "cell_type": "code",
   "execution_count": 193,
   "metadata": {},
   "outputs": [
    {
     "data": {
      "image/png": "[encoded data removed]",
      "text/plain": [
       "<Figure size 432x288 with 1 Axes>"
      ]
     },
     "metadata": {
      "needs_background": "light"
     },
     "output_type": "display_data"
    }
   ],
   "source": [
    "#plt.plot(t, sol[:, 0], 'b', label='V_v(t)')\n",
    "#plt.plot(t, sol[:, 1], 'g', label='V_m(t)')\n",
    "#plt.plot(t, sol[:, 2], 'r', label='H(t)')\n",
    "#plt.plot(t, sol[:, 3], 'c', label='X(t)')\n",
    "#plt.plot(t, sol[:, 4], 'm', label='Y(t)')\n",
    "#plt.plot(t, sol[:, 5], 'y', label='P(t)')\n",
    "plt.plot(t, C, 'k', label='C(t)')\n",
    "#plt.plot(t, A_KSS, 'darkorange', label='A_KSS(t)')\n",
    "plt.legend(loc='best')\n",
    "plt.xlabel('t')\n",
    "plt.grid()\n",
    "plt.show()"
   ]
  },
  {
   "cell_type": "code",
   "execution_count": null,
   "metadata": {},
   "outputs": [],
   "source": []
  },
  {
   "cell_type": "code",
   "execution_count": null,
   "metadata": {},
   "outputs": [],
   "source": []
  },
  {
   "cell_type": "code",
   "execution_count": null,
   "metadata": {},
   "outputs": [],
   "source": []
  }
 ],
 "metadata": {
  "kernelspec": {
   "display_name": "Python 3",
   "language": "python",
   "name": "python3"
  },
  "language_info": {
   "codemirror_mode": {
    "name": "ipython",
    "version": 3
   },
   "file_extension": ".py",
   "mimetype": "text/x-python",
   "name": "python",
   "nbconvert_exporter": "python",
   "pygments_lexer": "ipython3",
   "version": "3.9.0"
  }
 },
 "nbformat": 4,
 "nbformat_minor": 4
}
